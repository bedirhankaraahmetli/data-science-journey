{
 "cells": [
  {
   "cell_type": "markdown",
   "id": "2dab6352-dca6-4129-bd84-857b3b0facf1",
   "metadata": {},
   "source": [
    "# NUMPY"
   ]
  },
  {
   "cell_type": "markdown",
   "id": "275faafb-107d-4898-9577-2e28188140b9",
   "metadata": {},
   "source": [
    "## Load in NumPy"
   ]
  },
  {
   "cell_type": "code",
   "execution_count": 1,
   "id": "3b8b3857-382b-4baf-a3f5-96321d8ba2ed",
   "metadata": {},
   "outputs": [],
   "source": [
    "import numpy as np\n",
    "import sys"
   ]
  },
  {
   "cell_type": "markdown",
   "id": "877f0398-c09c-4225-a12c-ddf3a8a94913",
   "metadata": {},
   "source": [
    "## The Basics"
   ]
  },
  {
   "cell_type": "code",
   "execution_count": 16,
   "id": "4b6a2006-e379-46be-a6a6-435710cb8788",
   "metadata": {},
   "outputs": [
    {
     "name": "stdout",
     "output_type": "stream",
     "text": [
      "[1 2 3]\n"
     ]
    }
   ],
   "source": [
    "a = np.array([1, 2, 3], dtype='int16')\n",
    "print(a)"
   ]
  },
  {
   "cell_type": "code",
   "execution_count": 4,
   "id": "dc3043d1-9952-42d8-bb1d-ac3faf8a0be8",
   "metadata": {},
   "outputs": [
    {
     "name": "stdout",
     "output_type": "stream",
     "text": [
      "[[9. 8. 7.]\n",
      " [6. 5. 4.]]\n"
     ]
    }
   ],
   "source": [
    "b = np.array([[9.0, 8.0, 7.0], [6.0, 5.0, 4.0]])\n",
    "print(b)"
   ]
  },
  {
   "cell_type": "code",
   "execution_count": 6,
   "id": "d1e807d4-1c78-40d5-bcda-49ce4954d515",
   "metadata": {},
   "outputs": [
    {
     "name": "stdout",
     "output_type": "stream",
     "text": [
      "Dimension of the array a: 1\n",
      "Dimension of the array b: 2\n"
     ]
    }
   ],
   "source": [
    "# Get Dimension\n",
    "print(f'Dimension of the array a: {a.ndim}')\n",
    "print(f'Dimension of the array b: {b.ndim}')"
   ]
  },
  {
   "cell_type": "code",
   "execution_count": 7,
   "id": "41209651-3bec-43a3-9a12-730c63f66e02",
   "metadata": {},
   "outputs": [
    {
     "name": "stdout",
     "output_type": "stream",
     "text": [
      "Shape of the array a: (3,)\n",
      "Shape of the array b: (2, 3)\n"
     ]
    }
   ],
   "source": [
    "# Get Shape\n",
    "print(f'Shape of the array a: {a.shape}')\n",
    "print(f'Shape of the array b: {b.shape}')"
   ]
  },
  {
   "cell_type": "code",
   "execution_count": 13,
   "id": "f4c54768-b08f-45dc-8d55-f2cf57bbe4a5",
   "metadata": {},
   "outputs": [
    {
     "name": "stdout",
     "output_type": "stream",
     "text": [
      "Type of the array a: int8\n",
      "Type of the array b: float64\n"
     ]
    }
   ],
   "source": [
    "# Get Type\n",
    "print(f'Type of the array a: {a.dtype}')\n",
    "print(f'Type of the array b: {b.dtype}')"
   ]
  },
  {
   "cell_type": "code",
   "execution_count": 17,
   "id": "f4aca70e-35a5-417e-af04-2ad8bc02647e",
   "metadata": {},
   "outputs": [
    {
     "name": "stdout",
     "output_type": "stream",
     "text": [
      "Size of the array a: 2\n",
      "Size of the array b: 8\n"
     ]
    }
   ],
   "source": [
    "# Get Size\n",
    "print(f'Size of the array a: {a.itemsize}')\n",
    "print(f'Size of the array b: {b.itemsize}')"
   ]
  },
  {
   "cell_type": "markdown",
   "id": "04d2aea1-2112-475b-87f3-83815511e8df",
   "metadata": {},
   "source": [
    "## Accessing/Changing Specific Elements, Row, Columns, etc."
   ]
  },
  {
   "cell_type": "code",
   "execution_count": 125,
   "id": "9a456490-eec8-411f-be82-dfe5e51eda80",
   "metadata": {},
   "outputs": [
    {
     "name": "stdout",
     "output_type": "stream",
     "text": [
      "[[ 1  2  3  4  5  6  7]\n",
      " [ 8  9 10 11 12 13 14]]\n"
     ]
    }
   ],
   "source": [
    "a = np.array([[1,2,3,4,5,6,7],[8,9,10,11,12,13,14]])\n",
    "print(a)"
   ]
  },
  {
   "cell_type": "code",
   "execution_count": 24,
   "id": "a4ebd3cf-ed1f-42fc-bf7c-8e6c1f5806a7",
   "metadata": {},
   "outputs": [
    {
     "data": {
      "text/plain": [
       "13"
      ]
     },
     "execution_count": 24,
     "metadata": {},
     "output_type": "execute_result"
    }
   ],
   "source": [
    "# Get a specific element [r, c]\n",
    "a[1, 5] # Could be a[1, -2]"
   ]
  },
  {
   "cell_type": "code",
   "execution_count": 25,
   "id": "72fa7f6b-787b-4402-b309-3b9c27d80ff4",
   "metadata": {},
   "outputs": [
    {
     "data": {
      "text/plain": [
       "array([1, 2, 3, 4, 5, 6, 7])"
      ]
     },
     "execution_count": 25,
     "metadata": {},
     "output_type": "execute_result"
    }
   ],
   "source": [
    "# Get a specific row\n",
    "a[0, :]"
   ]
  },
  {
   "cell_type": "code",
   "execution_count": 26,
   "id": "fb5749c0-8eec-42af-87a2-e75c76219192",
   "metadata": {},
   "outputs": [
    {
     "data": {
      "text/plain": [
       "array([ 4, 11])"
      ]
     },
     "execution_count": 26,
     "metadata": {},
     "output_type": "execute_result"
    }
   ],
   "source": [
    "# Get a specific column\n",
    "a[:, 3]"
   ]
  },
  {
   "cell_type": "code",
   "execution_count": 27,
   "id": "4dc74805-32a8-449f-9549-471ef4b98054",
   "metadata": {},
   "outputs": [
    {
     "data": {
      "text/plain": [
       "array([2, 4, 6])"
      ]
     },
     "execution_count": 27,
     "metadata": {},
     "output_type": "execute_result"
    }
   ],
   "source": [
    "# Getting a little more fancy [startindex:endindex:stepsize]\n",
    "a[0, 1:6:2]"
   ]
  },
  {
   "cell_type": "code",
   "execution_count": 126,
   "id": "097ec6f4-1396-4026-81c0-5b0c92efc90a",
   "metadata": {},
   "outputs": [
    {
     "name": "stdout",
     "output_type": "stream",
     "text": [
      "[[ 1  2  3  4  5  6  7]\n",
      " [ 8  9 10 11 12 20 14]]\n",
      "[[ 1  2  5  4  5  6  7]\n",
      " [ 8  9  5 11 12 20 14]]\n"
     ]
    }
   ],
   "source": [
    "# Change element/s\n",
    "a[1,5] = 20\n",
    "print(a)\n",
    "\n",
    "a[:, 2] = 5\n",
    "print(a)"
   ]
  },
  {
   "cell_type": "markdown",
   "id": "c3c53500-f7c4-4dde-b0ff-a6ea82c1ac53",
   "metadata": {},
   "source": [
    "## Initializing Different Types of Arrays"
   ]
  },
  {
   "cell_type": "code",
   "execution_count": 37,
   "id": "378d76bd-2b8e-4ef4-a4ab-6f26e2ec4d17",
   "metadata": {},
   "outputs": [
    {
     "data": {
      "text/plain": [
       "array([[0., 0., 0.],\n",
       "       [0., 0., 0.]])"
      ]
     },
     "execution_count": 37,
     "metadata": {},
     "output_type": "execute_result"
    }
   ],
   "source": [
    "# All 0s matrix\n",
    "np.zeros((2,3))"
   ]
  },
  {
   "cell_type": "code",
   "execution_count": 39,
   "id": "3e07a8dc-a0f3-4a77-9260-474d634a12eb",
   "metadata": {},
   "outputs": [
    {
     "data": {
      "text/plain": [
       "array([[[1, 1],\n",
       "        [1, 1]],\n",
       "\n",
       "       [[1, 1],\n",
       "        [1, 1]],\n",
       "\n",
       "       [[1, 1],\n",
       "        [1, 1]],\n",
       "\n",
       "       [[1, 1],\n",
       "        [1, 1]]], dtype=int16)"
      ]
     },
     "execution_count": 39,
     "metadata": {},
     "output_type": "execute_result"
    }
   ],
   "source": [
    "# All 1s matrix\n",
    "np.ones((4,2,2), dtype='int16')"
   ]
  },
  {
   "cell_type": "code",
   "execution_count": 41,
   "id": "15fc5284-ccc2-43de-8b1d-47e17b58f4fc",
   "metadata": {},
   "outputs": [
    {
     "data": {
      "text/plain": [
       "array([[99., 99.],\n",
       "       [99., 99.]], dtype=float32)"
      ]
     },
     "execution_count": 41,
     "metadata": {},
     "output_type": "execute_result"
    }
   ],
   "source": [
    "# Any other number\n",
    "np.full((2,2), 99, dtype='float32')"
   ]
  },
  {
   "cell_type": "code",
   "execution_count": 44,
   "id": "e4b4289f-7926-49e9-8b2a-9ef4de81ea67",
   "metadata": {},
   "outputs": [
    {
     "data": {
      "text/plain": [
       "array([[4, 4, 4, 4, 4, 4, 4],\n",
       "       [4, 4, 4, 4, 4, 4, 4]])"
      ]
     },
     "execution_count": 44,
     "metadata": {},
     "output_type": "execute_result"
    }
   ],
   "source": [
    "# Any other number (full_like)\n",
    "a = np.array([[1,2,3,4,5,6,7],[8,9,10,11,12,13,14]])\n",
    "np.full_like(a, 4)"
   ]
  },
  {
   "cell_type": "code",
   "execution_count": 49,
   "id": "e7df7407-a654-408a-a8ca-49c8ee20cbad",
   "metadata": {},
   "outputs": [
    {
     "data": {
      "text/plain": [
       "array([[0.44072046, 0.12334226],\n",
       "       [0.51479465, 0.44339339],\n",
       "       [0.51672792, 0.98170793],\n",
       "       [0.81658744, 0.03740468]])"
      ]
     },
     "execution_count": 49,
     "metadata": {},
     "output_type": "execute_result"
    }
   ],
   "source": [
    "# Random decimal numbers\n",
    "np.random.rand(4,2)"
   ]
  },
  {
   "cell_type": "code",
   "execution_count": 59,
   "id": "e962948f-6fe9-4f58-88b4-844763e9aed2",
   "metadata": {},
   "outputs": [
    {
     "data": {
      "text/plain": [
       "array([[5, 2, 3],\n",
       "       [3, 3, 4],\n",
       "       [5, 6, 2]])"
      ]
     },
     "execution_count": 59,
     "metadata": {},
     "output_type": "execute_result"
    }
   ],
   "source": [
    "# Random Integer values\n",
    "np.random.randint(2,7, size=(3,3))"
   ]
  },
  {
   "cell_type": "code",
   "execution_count": 60,
   "id": "dee3fc18-66fe-4d0b-b094-15bb625edfb5",
   "metadata": {},
   "outputs": [
    {
     "data": {
      "text/plain": [
       "array([[1., 0., 0., 0., 0.],\n",
       "       [0., 1., 0., 0., 0.],\n",
       "       [0., 0., 1., 0., 0.],\n",
       "       [0., 0., 0., 1., 0.],\n",
       "       [0., 0., 0., 0., 1.]])"
      ]
     },
     "execution_count": 60,
     "metadata": {},
     "output_type": "execute_result"
    }
   ],
   "source": [
    "# Identity matrix\n",
    "np.identity(5)"
   ]
  },
  {
   "cell_type": "code",
   "execution_count": 69,
   "id": "46a33790-5b2f-4bc5-9e79-87d5308be3d6",
   "metadata": {},
   "outputs": [
    {
     "data": {
      "text/plain": [
       "array([[1, 2, 3],\n",
       "       [1, 2, 3],\n",
       "       [1, 2, 3]])"
      ]
     },
     "execution_count": 69,
     "metadata": {},
     "output_type": "execute_result"
    }
   ],
   "source": [
    "# Repeat an array\n",
    "arr = np.array([[1,2,3]])\n",
    "r1 = np.repeat(arr, 3, axis=0)\n",
    "r1"
   ]
  },
  {
   "cell_type": "code",
   "execution_count": 74,
   "id": "ab3ad1e1-a728-47bf-8637-8051cbdd583d",
   "metadata": {},
   "outputs": [
    {
     "data": {
      "text/plain": [
       "array([[1., 1., 1., 1., 1.],\n",
       "       [1., 0., 0., 0., 1.],\n",
       "       [1., 0., 9., 0., 1.],\n",
       "       [1., 0., 0., 0., 1.],\n",
       "       [1., 1., 1., 1., 1.]])"
      ]
     },
     "execution_count": 74,
     "metadata": {},
     "output_type": "execute_result"
    }
   ],
   "source": [
    "output = np.ones((5,5))\n",
    "z = np.zeros((3,3))\n",
    "z[1,1] = 9\n",
    "output[1:-1, 1:-1] = z\n",
    "output"
   ]
  },
  {
   "cell_type": "markdown",
   "id": "50c43294-93c9-4ddb-8f16-0c27c945188f",
   "metadata": {},
   "source": [
    "## Copying Arrays "
   ]
  },
  {
   "cell_type": "code",
   "execution_count": 80,
   "id": "fbcc7ea2-2cc0-4935-942a-1d0fd8dd35dc",
   "metadata": {},
   "outputs": [
    {
     "name": "stdout",
     "output_type": "stream",
     "text": [
      "[1 2 3]\n",
      "The array b: [100   2   3]\n",
      "The array a: [100   2   3]\n"
     ]
    }
   ],
   "source": [
    "# Copying with reference\n",
    "a = np.array([1,2,3])\n",
    "print(a)\n",
    "b=a\n",
    "b[0] = 100\n",
    "print(f'The array b: {b}')\n",
    "print(f'The array a: {a}')"
   ]
  },
  {
   "cell_type": "code",
   "execution_count": 79,
   "id": "2c9fb4c9-21be-483c-869e-bde9adc1d679",
   "metadata": {},
   "outputs": [
    {
     "name": "stdout",
     "output_type": "stream",
     "text": [
      "[1 2 3]\n",
      "The array b: [100   2   3]\n",
      "The array a: [1 2 3]\n"
     ]
    }
   ],
   "source": [
    "# Copying without reference, just values\n",
    "a = np.array([1,2,3])\n",
    "print(a)\n",
    "b=a.copy()\n",
    "b[0] = 100\n",
    "print(f'The array b: {b}')\n",
    "print(f'The array a: {a}')"
   ]
  },
  {
   "cell_type": "markdown",
   "id": "09481459-d956-4745-b91e-15e3051cbb2e",
   "metadata": {},
   "source": [
    "## Mathematics"
   ]
  },
  {
   "cell_type": "code",
   "execution_count": 81,
   "id": "67eaa9f9-38d1-434f-a737-e6995c5d5886",
   "metadata": {},
   "outputs": [
    {
     "name": "stdout",
     "output_type": "stream",
     "text": [
      "[1 2 3 4]\n"
     ]
    }
   ],
   "source": [
    "a = np.array([1,2,3,4])\n",
    "print(a)"
   ]
  },
  {
   "cell_type": "code",
   "execution_count": 88,
   "id": "ef23c920-30cf-454b-9ebd-8d6337eab9c0",
   "metadata": {},
   "outputs": [
    {
     "name": "stdout",
     "output_type": "stream",
     "text": [
      "[3 4 5 6]\n",
      "[-1  0  1  2]\n",
      "[2 4 6 8]\n",
      "[0.5 1.  1.5 2. ]\n",
      "[ 1  4  9 16]\n"
     ]
    }
   ],
   "source": [
    "print(a+2)\n",
    "print(a-2)\n",
    "print(a*2)\n",
    "print(a/2)\n",
    "print(a**2)"
   ]
  },
  {
   "cell_type": "code",
   "execution_count": 89,
   "id": "fdb4427b-5229-40aa-aded-823a13658ac2",
   "metadata": {},
   "outputs": [
    {
     "name": "stdout",
     "output_type": "stream",
     "text": [
      "[ 0.84147098  0.90929743  0.14112001 -0.7568025 ]\n"
     ]
    }
   ],
   "source": [
    " # Take the sin\n",
    "print(np.sin(a))"
   ]
  },
  {
   "cell_type": "markdown",
   "id": "a2555b04-d079-4e8d-abb1-3f8ee4e1b2c6",
   "metadata": {},
   "source": [
    "## Linear Algebra"
   ]
  },
  {
   "cell_type": "code",
   "execution_count": 93,
   "id": "7c960a19-da93-4fe4-b5fb-372308422a43",
   "metadata": {},
   "outputs": [
    {
     "name": "stdout",
     "output_type": "stream",
     "text": [
      "[[1. 1. 1.]\n",
      " [1. 1. 1.]]\n",
      "[[2 2]\n",
      " [2 2]\n",
      " [2 2]]\n"
     ]
    },
    {
     "data": {
      "text/plain": [
       "array([[6., 6.],\n",
       "       [6., 6.]])"
      ]
     },
     "execution_count": 93,
     "metadata": {},
     "output_type": "execute_result"
    }
   ],
   "source": [
    "a = np.ones((2,3))\n",
    "print(a)\n",
    "\n",
    "b = np.full((3,2), 2)\n",
    "print(b)\n",
    "\n",
    "np.dot(a,b) # np.matmul(a,b)"
   ]
  },
  {
   "cell_type": "code",
   "execution_count": 96,
   "id": "17f2b7c1-fa35-4422-be5a-37a4ad58dd8d",
   "metadata": {},
   "outputs": [
    {
     "name": "stdout",
     "output_type": "stream",
     "text": [
      "Determinant of the c: 1.0\n"
     ]
    }
   ],
   "source": [
    "# Find the determinant\n",
    "c = np.identity(3)\n",
    "print(f'Determinant of the c: {np.linalg.det(c)}')"
   ]
  },
  {
   "cell_type": "markdown",
   "id": "e757f7dd-4e16-450d-91b4-a74a04c19383",
   "metadata": {},
   "source": [
    "## Statistics"
   ]
  },
  {
   "cell_type": "code",
   "execution_count": 103,
   "id": "1bfb2461-6799-4259-8003-02d4b8b0b9f5",
   "metadata": {},
   "outputs": [
    {
     "data": {
      "text/plain": [
       "array([[1, 2, 3],\n",
       "       [4, 5, 6]])"
      ]
     },
     "execution_count": 103,
     "metadata": {},
     "output_type": "execute_result"
    }
   ],
   "source": [
    "stats = np.array([[1,2,3],[4,5,6]])\n",
    "stats"
   ]
  },
  {
   "cell_type": "code",
   "execution_count": 110,
   "id": "0f92dcd2-7617-4df3-8e9f-c30b5646f6ad",
   "metadata": {},
   "outputs": [
    {
     "data": {
      "text/plain": [
       "array([1, 4])"
      ]
     },
     "execution_count": 110,
     "metadata": {},
     "output_type": "execute_result"
    }
   ],
   "source": [
    "np.min(stats, axis=1)"
   ]
  },
  {
   "cell_type": "code",
   "execution_count": 111,
   "id": "ee43ace6-6188-4000-b665-0a8b782a4f8d",
   "metadata": {},
   "outputs": [
    {
     "data": {
      "text/plain": [
       "array([4, 5, 6])"
      ]
     },
     "execution_count": 111,
     "metadata": {},
     "output_type": "execute_result"
    }
   ],
   "source": [
    "np.max(stats, axis=0)"
   ]
  },
  {
   "cell_type": "code",
   "execution_count": 113,
   "id": "3d6b9788-7cfb-4a4e-b5c2-a8a1ba34165a",
   "metadata": {},
   "outputs": [
    {
     "data": {
      "text/plain": [
       "array([5, 7, 9])"
      ]
     },
     "execution_count": 113,
     "metadata": {},
     "output_type": "execute_result"
    }
   ],
   "source": [
    "np.sum(stats, axis=0)"
   ]
  },
  {
   "cell_type": "markdown",
   "id": "d6aeed09-38bc-47b8-9bc6-0aa0d1d1154f",
   "metadata": {},
   "source": [
    "## Reorganizing Arrays"
   ]
  },
  {
   "cell_type": "code",
   "execution_count": 116,
   "id": "7051a8ae-fa6f-4e58-a7c9-b066493dd259",
   "metadata": {},
   "outputs": [
    {
     "name": "stdout",
     "output_type": "stream",
     "text": [
      "[[1 2 3 4]\n",
      " [5 6 7 8]]\n"
     ]
    }
   ],
   "source": [
    "before = np.array([[1,2,3,4],[5,6,7,8]])\n",
    "print(before)"
   ]
  },
  {
   "cell_type": "code",
   "execution_count": 118,
   "id": "e6f246c5-daa6-4797-8d91-506337d3a982",
   "metadata": {},
   "outputs": [
    {
     "name": "stdout",
     "output_type": "stream",
     "text": [
      "[[1 2]\n",
      " [3 4]\n",
      " [5 6]\n",
      " [7 8]]\n"
     ]
    }
   ],
   "source": [
    "after = before.reshape((4,2))\n",
    "print(after)"
   ]
  },
  {
   "cell_type": "code",
   "execution_count": 121,
   "id": "d08caacc-4459-4fd5-a47c-052cb54ef41f",
   "metadata": {},
   "outputs": [
    {
     "name": "stdout",
     "output_type": "stream",
     "text": [
      "[[1 2 3 4]\n",
      " [5 6 7 8]\n",
      " [1 2 3 4]\n",
      " [5 6 7 8]]\n"
     ]
    }
   ],
   "source": [
    "# Vertically stacking matrices\n",
    "v1 = np.array([1,2,3,4])\n",
    "v2 = np.array([5,6,7,8])\n",
    "\n",
    "print(np.vstack([v1,v2,v1,v2]))"
   ]
  },
  {
   "cell_type": "code",
   "execution_count": 123,
   "id": "0b774e2f-c953-475d-bd94-fbf600435eea",
   "metadata": {},
   "outputs": [
    {
     "name": "stdout",
     "output_type": "stream",
     "text": [
      "[[1. 1. 1. 1. 0. 0.]\n",
      " [1. 1. 1. 1. 0. 0.]]\n"
     ]
    }
   ],
   "source": [
    "# Horizantal stacking matrices\n",
    "h1 = np.ones((2,4))\n",
    "h2 = np.zeros((2,2))\n",
    "\n",
    "print(np.hstack((h1,h2)))"
   ]
  }
 ],
 "metadata": {
  "kernelspec": {
   "display_name": "Python 3 (ipykernel)",
   "language": "python",
   "name": "python3"
  },
  "language_info": {
   "codemirror_mode": {
    "name": "ipython",
    "version": 3
   },
   "file_extension": ".py",
   "mimetype": "text/x-python",
   "name": "python",
   "nbconvert_exporter": "python",
   "pygments_lexer": "ipython3",
   "version": "3.12.2"
  }
 },
 "nbformat": 4,
 "nbformat_minor": 5
}
